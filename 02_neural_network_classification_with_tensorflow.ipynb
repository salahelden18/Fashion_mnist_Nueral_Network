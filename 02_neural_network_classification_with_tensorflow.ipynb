{
  "nbformat": 4,
  "nbformat_minor": 0,
  "metadata": {
    "colab": {
      "provenance": []
    },
    "kernelspec": {
      "name": "python3",
      "display_name": "Python 3"
    },
    "language_info": {
      "name": "python"
    },
    "accelerator": "GPU",
    "gpuClass": "standard"
  },
  "cells": [
    {
      "cell_type": "code",
      "execution_count": 2,
      "metadata": {
        "id": "Grgz6X1tScVY",
        "colab": {
          "base_uri": "https://localhost:8080/"
        },
        "outputId": "23166acd-54d9-49da-d9e3-0f3a96193cb9"
      },
      "outputs": [
        {
          "output_type": "stream",
          "name": "stdout",
          "text": [
            "Downloading data from https://storage.googleapis.com/tensorflow/tf-keras-datasets/train-labels-idx1-ubyte.gz\n",
            "29515/29515 [==============================] - 0s 0us/step\n",
            "Downloading data from https://storage.googleapis.com/tensorflow/tf-keras-datasets/train-images-idx3-ubyte.gz\n",
            "26421880/26421880 [==============================] - 0s 0us/step\n",
            "Downloading data from https://storage.googleapis.com/tensorflow/tf-keras-datasets/t10k-labels-idx1-ubyte.gz\n",
            "5148/5148 [==============================] - 0s 0us/step\n",
            "Downloading data from https://storage.googleapis.com/tensorflow/tf-keras-datasets/t10k-images-idx3-ubyte.gz\n",
            "4422102/4422102 [==============================] - 0s 0us/step\n"
          ]
        }
      ],
      "source": [
        "import tensorflow as tf\n",
        "from tensorflow.keras.datasets import fashion_mnist\n",
        "\n",
        "(train_data, train_labels), (test_data, test_labels) = fashion_mnist.load_data()"
      ]
    },
    {
      "cell_type": "code",
      "source": [
        "train_data[0], train_labels[0]"
      ],
      "metadata": {
        "colab": {
          "base_uri": "https://localhost:8080/"
        },
        "id": "g7lJjvk2vOSK",
        "outputId": "9cdd7626-2033-4418-c81a-cee65ce1bd6d"
      },
      "execution_count": 3,
      "outputs": [
        {
          "output_type": "execute_result",
          "data": {
            "text/plain": [
              "(array([[  0,   0,   0,   0,   0,   0,   0,   0,   0,   0,   0,   0,   0,\n",
              "           0,   0,   0,   0,   0,   0,   0,   0,   0,   0,   0,   0,   0,\n",
              "           0,   0],\n",
              "        [  0,   0,   0,   0,   0,   0,   0,   0,   0,   0,   0,   0,   0,\n",
              "           0,   0,   0,   0,   0,   0,   0,   0,   0,   0,   0,   0,   0,\n",
              "           0,   0],\n",
              "        [  0,   0,   0,   0,   0,   0,   0,   0,   0,   0,   0,   0,   0,\n",
              "           0,   0,   0,   0,   0,   0,   0,   0,   0,   0,   0,   0,   0,\n",
              "           0,   0],\n",
              "        [  0,   0,   0,   0,   0,   0,   0,   0,   0,   0,   0,   0,   1,\n",
              "           0,   0,  13,  73,   0,   0,   1,   4,   0,   0,   0,   0,   1,\n",
              "           1,   0],\n",
              "        [  0,   0,   0,   0,   0,   0,   0,   0,   0,   0,   0,   0,   3,\n",
              "           0,  36, 136, 127,  62,  54,   0,   0,   0,   1,   3,   4,   0,\n",
              "           0,   3],\n",
              "        [  0,   0,   0,   0,   0,   0,   0,   0,   0,   0,   0,   0,   6,\n",
              "           0, 102, 204, 176, 134, 144, 123,  23,   0,   0,   0,   0,  12,\n",
              "          10,   0],\n",
              "        [  0,   0,   0,   0,   0,   0,   0,   0,   0,   0,   0,   0,   0,\n",
              "           0, 155, 236, 207, 178, 107, 156, 161, 109,  64,  23,  77, 130,\n",
              "          72,  15],\n",
              "        [  0,   0,   0,   0,   0,   0,   0,   0,   0,   0,   0,   1,   0,\n",
              "          69, 207, 223, 218, 216, 216, 163, 127, 121, 122, 146, 141,  88,\n",
              "         172,  66],\n",
              "        [  0,   0,   0,   0,   0,   0,   0,   0,   0,   1,   1,   1,   0,\n",
              "         200, 232, 232, 233, 229, 223, 223, 215, 213, 164, 127, 123, 196,\n",
              "         229,   0],\n",
              "        [  0,   0,   0,   0,   0,   0,   0,   0,   0,   0,   0,   0,   0,\n",
              "         183, 225, 216, 223, 228, 235, 227, 224, 222, 224, 221, 223, 245,\n",
              "         173,   0],\n",
              "        [  0,   0,   0,   0,   0,   0,   0,   0,   0,   0,   0,   0,   0,\n",
              "         193, 228, 218, 213, 198, 180, 212, 210, 211, 213, 223, 220, 243,\n",
              "         202,   0],\n",
              "        [  0,   0,   0,   0,   0,   0,   0,   0,   0,   1,   3,   0,  12,\n",
              "         219, 220, 212, 218, 192, 169, 227, 208, 218, 224, 212, 226, 197,\n",
              "         209,  52],\n",
              "        [  0,   0,   0,   0,   0,   0,   0,   0,   0,   0,   6,   0,  99,\n",
              "         244, 222, 220, 218, 203, 198, 221, 215, 213, 222, 220, 245, 119,\n",
              "         167,  56],\n",
              "        [  0,   0,   0,   0,   0,   0,   0,   0,   0,   4,   0,   0,  55,\n",
              "         236, 228, 230, 228, 240, 232, 213, 218, 223, 234, 217, 217, 209,\n",
              "          92,   0],\n",
              "        [  0,   0,   1,   4,   6,   7,   2,   0,   0,   0,   0,   0, 237,\n",
              "         226, 217, 223, 222, 219, 222, 221, 216, 223, 229, 215, 218, 255,\n",
              "          77,   0],\n",
              "        [  0,   3,   0,   0,   0,   0,   0,   0,   0,  62, 145, 204, 228,\n",
              "         207, 213, 221, 218, 208, 211, 218, 224, 223, 219, 215, 224, 244,\n",
              "         159,   0],\n",
              "        [  0,   0,   0,   0,  18,  44,  82, 107, 189, 228, 220, 222, 217,\n",
              "         226, 200, 205, 211, 230, 224, 234, 176, 188, 250, 248, 233, 238,\n",
              "         215,   0],\n",
              "        [  0,  57, 187, 208, 224, 221, 224, 208, 204, 214, 208, 209, 200,\n",
              "         159, 245, 193, 206, 223, 255, 255, 221, 234, 221, 211, 220, 232,\n",
              "         246,   0],\n",
              "        [  3, 202, 228, 224, 221, 211, 211, 214, 205, 205, 205, 220, 240,\n",
              "          80, 150, 255, 229, 221, 188, 154, 191, 210, 204, 209, 222, 228,\n",
              "         225,   0],\n",
              "        [ 98, 233, 198, 210, 222, 229, 229, 234, 249, 220, 194, 215, 217,\n",
              "         241,  65,  73, 106, 117, 168, 219, 221, 215, 217, 223, 223, 224,\n",
              "         229,  29],\n",
              "        [ 75, 204, 212, 204, 193, 205, 211, 225, 216, 185, 197, 206, 198,\n",
              "         213, 240, 195, 227, 245, 239, 223, 218, 212, 209, 222, 220, 221,\n",
              "         230,  67],\n",
              "        [ 48, 203, 183, 194, 213, 197, 185, 190, 194, 192, 202, 214, 219,\n",
              "         221, 220, 236, 225, 216, 199, 206, 186, 181, 177, 172, 181, 205,\n",
              "         206, 115],\n",
              "        [  0, 122, 219, 193, 179, 171, 183, 196, 204, 210, 213, 207, 211,\n",
              "         210, 200, 196, 194, 191, 195, 191, 198, 192, 176, 156, 167, 177,\n",
              "         210,  92],\n",
              "        [  0,   0,  74, 189, 212, 191, 175, 172, 175, 181, 185, 188, 189,\n",
              "         188, 193, 198, 204, 209, 210, 210, 211, 188, 188, 194, 192, 216,\n",
              "         170,   0],\n",
              "        [  2,   0,   0,   0,  66, 200, 222, 237, 239, 242, 246, 243, 244,\n",
              "         221, 220, 193, 191, 179, 182, 182, 181, 176, 166, 168,  99,  58,\n",
              "           0,   0],\n",
              "        [  0,   0,   0,   0,   0,   0,   0,  40,  61,  44,  72,  41,  35,\n",
              "           0,   0,   0,   0,   0,   0,   0,   0,   0,   0,   0,   0,   0,\n",
              "           0,   0],\n",
              "        [  0,   0,   0,   0,   0,   0,   0,   0,   0,   0,   0,   0,   0,\n",
              "           0,   0,   0,   0,   0,   0,   0,   0,   0,   0,   0,   0,   0,\n",
              "           0,   0],\n",
              "        [  0,   0,   0,   0,   0,   0,   0,   0,   0,   0,   0,   0,   0,\n",
              "           0,   0,   0,   0,   0,   0,   0,   0,   0,   0,   0,   0,   0,\n",
              "           0,   0]], dtype=uint8),\n",
              " 9)"
            ]
          },
          "metadata": {},
          "execution_count": 3
        }
      ]
    },
    {
      "cell_type": "code",
      "source": [
        "# check the shape\n",
        "train_data.shape, train_labels[0].shape"
      ],
      "metadata": {
        "colab": {
          "base_uri": "https://localhost:8080/"
        },
        "id": "YXDFYskzvpCE",
        "outputId": "e497bc19-3077-4559-b3b7-8c468ced2f0b"
      },
      "execution_count": 4,
      "outputs": [
        {
          "output_type": "execute_result",
          "data": {
            "text/plain": [
              "((60000, 28, 28), ())"
            ]
          },
          "metadata": {},
          "execution_count": 4
        }
      ]
    },
    {
      "cell_type": "code",
      "source": [
        "len(train_data)"
      ],
      "metadata": {
        "colab": {
          "base_uri": "https://localhost:8080/"
        },
        "id": "K8o0FJqpv53u",
        "outputId": "29bb18d7-9676-45be-c0a1-e854f62850df"
      },
      "execution_count": 5,
      "outputs": [
        {
          "output_type": "execute_result",
          "data": {
            "text/plain": [
              "60000"
            ]
          },
          "metadata": {},
          "execution_count": 5
        }
      ]
    },
    {
      "cell_type": "code",
      "source": [
        "import matplotlib.pyplot as plt\n",
        "\n",
        "plt.imshow(train_data[0]);"
      ],
      "metadata": {
        "colab": {
          "base_uri": "https://localhost:8080/",
          "height": 430
        },
        "id": "jxmHetvcv-fB",
        "outputId": "3778f972-57dc-4a08-ece1-1f0d6de2db94"
      },
      "execution_count": 6,
      "outputs": [
        {
          "output_type": "display_data",
          "data": {
            "text/plain": [
              "<Figure size 640x480 with 1 Axes>"
            ],
            "image/png": "[encoded data removed]"
          },
          "metadata": {}
        }
      ]
    },
    {
      "cell_type": "code",
      "source": [
        "# check out samples label\n",
        "train_labels[0]"
      ],
      "metadata": {
        "colab": {
          "base_uri": "https://localhost:8080/"
        },
        "id": "o5P9J6DywGoa",
        "outputId": "50b29389-7ba1-4576-a8b7-79ca67ee2302"
      },
      "execution_count": 7,
      "outputs": [
        {
          "output_type": "execute_result",
          "data": {
            "text/plain": [
              "9"
            ]
          },
          "metadata": {},
          "execution_count": 7
        }
      ]
    },
    {
      "cell_type": "code",
      "source": [
        "# Create a small list so we can index onto our traing labels\n",
        "class_names = ['T-shirt/top', \n",
        "               'Trouser',\n",
        "               'Pulover',\n",
        "               'Dress',\n",
        "               'Coat',\n",
        "               'Sandal',\n",
        "               'Shirt',\n",
        "               'Sneaker',\n",
        "               'Bag',\n",
        "               'Ankle boot'\n",
        "]\n",
        "\n",
        "len(class_names)"
      ],
      "metadata": {
        "colab": {
          "base_uri": "https://localhost:8080/"
        },
        "id": "WV4Nlho4wPxY",
        "outputId": "a9a13d0c-f12f-4718-c540-e85134aa4de4"
      },
      "execution_count": 8,
      "outputs": [
        {
          "output_type": "execute_result",
          "data": {
            "text/plain": [
              "10"
            ]
          },
          "metadata": {},
          "execution_count": 8
        }
      ]
    },
    {
      "cell_type": "code",
      "source": [
        "# plot an exmple image and its labels\n",
        "plt.imshow(train_data[2000], cmap=plt.cm.binary)\n",
        "plt.title(class_names[train_labels[2000]])"
      ],
      "metadata": {
        "colab": {
          "base_uri": "https://localhost:8080/",
          "height": 470
        },
        "id": "NHwHTlg1xJac",
        "outputId": "76281f9b-a89c-4450-82b3-b88ba658787a"
      },
      "execution_count": 9,
      "outputs": [
        {
          "output_type": "execute_result",
          "data": {
            "text/plain": [
              "Text(0.5, 1.0, 'Coat')"
            ]
          },
          "metadata": {},
          "execution_count": 9
        },
        {
          "output_type": "display_data",
          "data": {
            "text/plain": [
              "<Figure size 640x480 with 1 Axes>"
            ],
            "image/png": "[encoded data removed]"
          },
          "metadata": {}
        }
      ]
    },
    {
      "cell_type": "code",
      "source": [
        "# plot multiple random images\n",
        "import random\n",
        "plt.figure(figsize=(7,7))\n",
        "for i in range(4):\n",
        "  ax = plt.subplot(2, 2, i+1)\n",
        "  rand_index = random.choice(range(len(train_data)))\n",
        "  plt.imshow(train_data[rand_index], cmap=plt.cm.binary)\n",
        "  plt.title(class_names[train_labels[rand_index]])\n",
        "  plt.axis(False)\n"
      ],
      "metadata": {
        "colab": {
          "base_uri": "https://localhost:8080/",
          "height": 598
        },
        "id": "TaThQmTNxaUF",
        "outputId": "13d9a590-ffcd-4e12-e3a3-75df1ff62ce0"
      },
      "execution_count": 10,
      "outputs": [
        {
          "output_type": "display_data",
          "data": {
            "text/plain": [
              "<Figure size 700x700 with 4 Axes>"
            ],
            "image/png": "[encoded data removed]"
          },
          "metadata": {}
        }
      ]
    },
    {
      "cell_type": "code",
      "source": [
        "train_data.shape"
      ],
      "metadata": {
        "colab": {
          "base_uri": "https://localhost:8080/"
        },
        "id": "bDPaI1Zd3DzJ",
        "outputId": "a8784f0e-9d01-4e39-f684-2521506a47d1"
      },
      "execution_count": 11,
      "outputs": [
        {
          "output_type": "execute_result",
          "data": {
            "text/plain": [
              "(60000, 28, 28)"
            ]
          },
          "metadata": {},
          "execution_count": 11
        }
      ]
    },
    {
      "cell_type": "code",
      "source": [
        "train_labels.shape"
      ],
      "metadata": {
        "colab": {
          "base_uri": "https://localhost:8080/"
        },
        "id": "kBf6Lydj3Ge0",
        "outputId": "8d2f226a-4331-4bf7-e5ee-bd3584b1cde9"
      },
      "execution_count": 12,
      "outputs": [
        {
          "output_type": "execute_result",
          "data": {
            "text/plain": [
              "(60000,)"
            ]
          },
          "metadata": {},
          "execution_count": 12
        }
      ]
    },
    {
      "cell_type": "code",
      "source": [
        "# build the mutliclass model\n",
        "tf.random.set_seed(42)\n",
        "\n",
        "model = tf.keras.Sequential([\n",
        "    tf.keras.layers.Flatten(input_shape=(28,28)),\n",
        "    tf.keras.layers.Dense(4, activation='relu'),\n",
        "    tf.keras.layers.Dense(4, activation='relu'),\n",
        "    tf.keras.layers.Dense(10, activation='softmax')\n",
        "])\n",
        "\n",
        "# compile the model\n",
        "model.compile(\n",
        "    loss=tf.keras.losses.SparseCategoricalCrossentropy(),\n",
        "    optimizer=tf.keras.optimizers.Adam(),\n",
        "    metrics=['accuracy']\n",
        ")\n",
        "\n",
        "history = model.fit(train_data, train_labels, epochs=10,\n",
        "                    validation_data=(test_data, test_labels))\n"
      ],
      "metadata": {
        "colab": {
          "base_uri": "https://localhost:8080/"
        },
        "id": "zfc2kqImyMcN",
        "outputId": "f873c03d-be5f-48ca-f81e-6a389193591a"
      },
      "execution_count": 13,
      "outputs": [
        {
          "output_type": "stream",
          "name": "stdout",
          "text": [
            "Epoch 1/10\n",
            "1875/1875 [==============================] - 12s 3ms/step - loss: 2.1995 - accuracy: 0.2964 - val_loss: 1.5996 - val_accuracy: 0.3649\n",
            "Epoch 2/10\n",
            "1875/1875 [==============================] - 6s 3ms/step - loss: 1.5115 - accuracy: 0.3763 - val_loss: 1.4885 - val_accuracy: 0.3989\n",
            "Epoch 3/10\n",
            "1875/1875 [==============================] - 6s 3ms/step - loss: 1.4172 - accuracy: 0.4117 - val_loss: 1.4047 - val_accuracy: 0.4218\n",
            "Epoch 4/10\n",
            "1875/1875 [==============================] - 6s 3ms/step - loss: 1.2642 - accuracy: 0.4713 - val_loss: 1.2162 - val_accuracy: 0.4925\n",
            "Epoch 5/10\n",
            "1875/1875 [==============================] - 7s 4ms/step - loss: 1.1780 - accuracy: 0.4952 - val_loss: 1.1839 - val_accuracy: 0.4713\n",
            "Epoch 6/10\n",
            "1875/1875 [==============================] - 13s 7ms/step - loss: 1.1380 - accuracy: 0.5108 - val_loss: 1.1469 - val_accuracy: 0.5536\n",
            "Epoch 7/10\n",
            "1875/1875 [==============================] - 7s 4ms/step - loss: 1.0844 - accuracy: 0.5347 - val_loss: 1.1011 - val_accuracy: 0.5171\n",
            "Epoch 8/10\n",
            "1875/1875 [==============================] - 7s 4ms/step - loss: 1.0714 - accuracy: 0.5313 - val_loss: 1.1894 - val_accuracy: 0.4684\n",
            "Epoch 9/10\n",
            "1875/1875 [==============================] - 7s 4ms/step - loss: 1.0550 - accuracy: 0.5306 - val_loss: 1.0640 - val_accuracy: 0.5369\n",
            "Epoch 10/10\n",
            "1875/1875 [==============================] - 8s 4ms/step - loss: 1.0418 - accuracy: 0.5410 - val_loss: 1.0506 - val_accuracy: 0.5387\n"
          ]
        }
      ]
    },
    {
      "cell_type": "code",
      "source": [
        "# check the model summary\n",
        "model.summary()"
      ],
      "metadata": {
        "colab": {
          "base_uri": "https://localhost:8080/"
        },
        "id": "MYdrIJND2gWT",
        "outputId": "8ae934df-e2f2-4a49-9ffc-c02977474a8c"
      },
      "execution_count": 14,
      "outputs": [
        {
          "output_type": "stream",
          "name": "stdout",
          "text": [
            "Model: \"sequential\"\n",
            "_________________________________________________________________\n",
            " Layer (type)                Output Shape              Param #   \n",
            "=================================================================\n",
            " flatten (Flatten)           (None, 784)               0         \n",
            "                                                                 \n",
            " dense (Dense)               (None, 4)                 3140      \n",
            "                                                                 \n",
            " dense_1 (Dense)             (None, 4)                 20        \n",
            "                                                                 \n",
            " dense_2 (Dense)             (None, 10)                50        \n",
            "                                                                 \n",
            "=================================================================\n",
            "Total params: 3,210\n",
            "Trainable params: 3,210\n",
            "Non-trainable params: 0\n",
            "_________________________________________________________________\n"
          ]
        }
      ]
    },
    {
      "cell_type": "code",
      "source": [
        "# normalize the data\n",
        "train_data_norm = train_data / 255\n",
        "test_data_norm = test_data / 255\n",
        "\n",
        "train_data_norm.min(), train_data_norm.max()"
      ],
      "metadata": {
        "colab": {
          "base_uri": "https://localhost:8080/"
        },
        "id": "lv0KrlBy6GxN",
        "outputId": "6cffc176-76af-4e8f-f2ee-1a357b251d4f"
      },
      "execution_count": 15,
      "outputs": [
        {
          "output_type": "execute_result",
          "data": {
            "text/plain": [
              "(0.0, 1.0)"
            ]
          },
          "metadata": {},
          "execution_count": 15
        }
      ]
    },
    {
      "cell_type": "code",
      "source": [
        "# build the mutliclass model\n",
        "tf.random.set_seed(42)\n",
        "\n",
        "model_norm = tf.keras.Sequential([\n",
        "    tf.keras.layers.Flatten(input_shape=(28,28)),\n",
        "    tf.keras.layers.Dense(4, activation='relu'),\n",
        "    tf.keras.layers.Dense(4, activation='relu'),\n",
        "    tf.keras.layers.Dense(10, activation='softmax')\n",
        "])\n",
        "\n",
        "# compile the model\n",
        "model_norm.compile(\n",
        "    loss=tf.keras.losses.SparseCategoricalCrossentropy(),\n",
        "    optimizer=tf.keras.optimizers.Adam(),\n",
        "    metrics=['accuracy']\n",
        ")\n",
        "\n",
        "history = model_norm.fit(train_data_norm, train_labels, epochs=20,\n",
        "                    validation_data=(test_data_norm, test_labels))"
      ],
      "metadata": {
        "colab": {
          "base_uri": "https://localhost:8080/"
        },
        "id": "DDq9hlwk6yIT",
        "outputId": "bd9f7387-122c-443c-8cdc-b32711519071"
      },
      "execution_count": 16,
      "outputs": [
        {
          "output_type": "stream",
          "name": "stdout",
          "text": [
            "Epoch 1/20\n",
            "1875/1875 [==============================] - 8s 4ms/step - loss: 0.9944 - accuracy: 0.6249 - val_loss: 0.7626 - val_accuracy: 0.7275\n",
            "Epoch 2/20\n",
            "1875/1875 [==============================] - 6s 3ms/step - loss: 0.6825 - accuracy: 0.7518 - val_loss: 0.6512 - val_accuracy: 0.7635\n",
            "Epoch 3/20\n",
            "1875/1875 [==============================] - 7s 4ms/step - loss: 0.5992 - accuracy: 0.7802 - val_loss: 0.6193 - val_accuracy: 0.7708\n",
            "Epoch 4/20\n",
            "1875/1875 [==============================] - 6s 3ms/step - loss: 0.5692 - accuracy: 0.7910 - val_loss: 0.5852 - val_accuracy: 0.7898\n",
            "Epoch 5/20\n",
            "1875/1875 [==============================] - 6s 3ms/step - loss: 0.5531 - accuracy: 0.7983 - val_loss: 0.5848 - val_accuracy: 0.7884\n",
            "Epoch 6/20\n",
            "1875/1875 [==============================] - 6s 3ms/step - loss: 0.5408 - accuracy: 0.8058 - val_loss: 0.5742 - val_accuracy: 0.8010\n",
            "Epoch 7/20\n",
            "1875/1875 [==============================] - 6s 3ms/step - loss: 0.5316 - accuracy: 0.8116 - val_loss: 0.5676 - val_accuracy: 0.8023\n",
            "Epoch 8/20\n",
            "1875/1875 [==============================] - 6s 3ms/step - loss: 0.5217 - accuracy: 0.8166 - val_loss: 0.5421 - val_accuracy: 0.8121\n",
            "Epoch 9/20\n",
            "1875/1875 [==============================] - 6s 3ms/step - loss: 0.5138 - accuracy: 0.8202 - val_loss: 0.5482 - val_accuracy: 0.8120\n",
            "Epoch 10/20\n",
            "1875/1875 [==============================] - 6s 3ms/step - loss: 0.5075 - accuracy: 0.8224 - val_loss: 0.5345 - val_accuracy: 0.8150\n",
            "Epoch 11/20\n",
            "1875/1875 [==============================] - 9s 5ms/step - loss: 0.5029 - accuracy: 0.8247 - val_loss: 0.5268 - val_accuracy: 0.8189\n",
            "Epoch 12/20\n",
            "1875/1875 [==============================] - 7s 4ms/step - loss: 0.4972 - accuracy: 0.8272 - val_loss: 0.5258 - val_accuracy: 0.8177\n",
            "Epoch 13/20\n",
            "1875/1875 [==============================] - 6s 3ms/step - loss: 0.4941 - accuracy: 0.8273 - val_loss: 0.5193 - val_accuracy: 0.8218\n",
            "Epoch 14/20\n",
            "1875/1875 [==============================] - 6s 3ms/step - loss: 0.4899 - accuracy: 0.8299 - val_loss: 0.5181 - val_accuracy: 0.8206\n",
            "Epoch 15/20\n",
            "1875/1875 [==============================] - 6s 3ms/step - loss: 0.4864 - accuracy: 0.8305 - val_loss: 0.5219 - val_accuracy: 0.8201\n",
            "Epoch 16/20\n",
            "1875/1875 [==============================] - 6s 3ms/step - loss: 0.4840 - accuracy: 0.8317 - val_loss: 0.5171 - val_accuracy: 0.8194\n",
            "Epoch 17/20\n",
            "1875/1875 [==============================] - 8s 4ms/step - loss: 0.4797 - accuracy: 0.8318 - val_loss: 0.5212 - val_accuracy: 0.8144\n",
            "Epoch 18/20\n",
            "1875/1875 [==============================] - 7s 3ms/step - loss: 0.4790 - accuracy: 0.8328 - val_loss: 0.5085 - val_accuracy: 0.8252\n",
            "Epoch 19/20\n",
            "1875/1875 [==============================] - 6s 3ms/step - loss: 0.4772 - accuracy: 0.8332 - val_loss: 0.5177 - val_accuracy: 0.8201\n",
            "Epoch 20/20\n",
            "1875/1875 [==============================] - 6s 3ms/step - loss: 0.4747 - accuracy: 0.8349 - val_loss: 0.5173 - val_accuracy: 0.8168\n"
          ]
        }
      ]
    },
    {
      "cell_type": "code",
      "source": [
        "# finding the ideal learning rate\n",
        "tf.random.set_seed(42)\n",
        "\n",
        "# create model\n",
        "model_2 = tf.keras.Sequential([\n",
        "    tf.keras.layers.Flatten(input_shape=(28, 28)),\n",
        "    tf.keras.layers.Dense(4, activation='relu'),\n",
        "    tf.keras.layers.Dense(4, activation='relu'),\n",
        "    tf.keras.layers.Dense(10, activation='softmax')\n",
        "])\n",
        "\n",
        "model_2.compile(\n",
        "    loss=tf.keras.losses.SparseCategoricalCrossentropy(),\n",
        "    optimizer=tf.keras.optimizers.Adam(),\n",
        "    metrics=['accuracy']\n",
        ")\n",
        "\n",
        "# create the learning rate callback\n",
        "lr_scheduler = tf.keras.callbacks.LearningRateScheduler(lambda epoch: 1e-3 * 10**(epoch/20))\n",
        "\n",
        "# fit the model\n",
        "find_lr_hsitory = model_2.fit(train_data_norm,\n",
        "                              train_labels,\n",
        "                              epochs=40,\n",
        "                              validation_data=(test_data_norm, test_labels),\n",
        "                              callbacks=[lr_scheduler]\n",
        "                              )\n",
        "\n"
      ],
      "metadata": {
        "id": "cK7Z2Szx69yr",
        "colab": {
          "base_uri": "https://localhost:8080/"
        },
        "outputId": "2de7963b-60df-4e97-b5e0-85340dac4cad"
      },
      "execution_count": 17,
      "outputs": [
        {
          "output_type": "stream",
          "name": "stdout",
          "text": [
            "Epoch 1/40\n",
            "1875/1875 [==============================] - 7s 3ms/step - loss: 1.4661 - accuracy: 0.4123 - val_loss: 1.1560 - val_accuracy: 0.6009 - lr: 0.0010\n",
            "Epoch 2/40\n",
            "1875/1875 [==============================] - 6s 3ms/step - loss: 0.9906 - accuracy: 0.6359 - val_loss: 0.8816 - val_accuracy: 0.6722 - lr: 0.0011\n",
            "Epoch 3/40\n",
            "1875/1875 [==============================] - 6s 3ms/step - loss: 0.7688 - accuracy: 0.7293 - val_loss: 0.7525 - val_accuracy: 0.7379 - lr: 0.0013\n",
            "Epoch 4/40\n",
            "1875/1875 [==============================] - 6s 3ms/step - loss: 0.6849 - accuracy: 0.7637 - val_loss: 0.6910 - val_accuracy: 0.7612 - lr: 0.0014\n",
            "Epoch 5/40\n",
            "1875/1875 [==============================] - 7s 4ms/step - loss: 0.6471 - accuracy: 0.7751 - val_loss: 0.6516 - val_accuracy: 0.7802 - lr: 0.0016\n",
            "Epoch 6/40\n",
            "1875/1875 [==============================] - 8s 4ms/step - loss: 0.6191 - accuracy: 0.7858 - val_loss: 0.6376 - val_accuracy: 0.7850 - lr: 0.0018\n",
            "Epoch 7/40\n",
            "1875/1875 [==============================] - 6s 3ms/step - loss: 0.5973 - accuracy: 0.7938 - val_loss: 0.6332 - val_accuracy: 0.7811 - lr: 0.0020\n",
            "Epoch 8/40\n",
            "1875/1875 [==============================] - 7s 3ms/step - loss: 0.5789 - accuracy: 0.8022 - val_loss: 0.5952 - val_accuracy: 0.8034 - lr: 0.0022\n",
            "Epoch 9/40\n",
            "1875/1875 [==============================] - 6s 3ms/step - loss: 0.5687 - accuracy: 0.8069 - val_loss: 0.5990 - val_accuracy: 0.8012 - lr: 0.0025\n",
            "Epoch 10/40\n",
            "1875/1875 [==============================] - 6s 3ms/step - loss: 0.5602 - accuracy: 0.8074 - val_loss: 0.5898 - val_accuracy: 0.7994 - lr: 0.0028\n",
            "Epoch 11/40\n",
            "1875/1875 [==============================] - 6s 3ms/step - loss: 0.5538 - accuracy: 0.8110 - val_loss: 0.6165 - val_accuracy: 0.7942 - lr: 0.0032\n",
            "Epoch 12/40\n",
            "1875/1875 [==============================] - 7s 4ms/step - loss: 0.5488 - accuracy: 0.8125 - val_loss: 0.5961 - val_accuracy: 0.8040 - lr: 0.0035\n",
            "Epoch 13/40\n",
            "1875/1875 [==============================] - 6s 3ms/step - loss: 0.5485 - accuracy: 0.8111 - val_loss: 0.5827 - val_accuracy: 0.8099 - lr: 0.0040\n",
            "Epoch 14/40\n",
            "1875/1875 [==============================] - 6s 3ms/step - loss: 0.5424 - accuracy: 0.8151 - val_loss: 0.5789 - val_accuracy: 0.8023 - lr: 0.0045\n",
            "Epoch 15/40\n",
            "1875/1875 [==============================] - 6s 3ms/step - loss: 0.5428 - accuracy: 0.8139 - val_loss: 0.5660 - val_accuracy: 0.8054 - lr: 0.0050\n",
            "Epoch 16/40\n",
            "1875/1875 [==============================] - 7s 3ms/step - loss: 0.5449 - accuracy: 0.8115 - val_loss: 0.5772 - val_accuracy: 0.8039 - lr: 0.0056\n",
            "Epoch 17/40\n",
            "1875/1875 [==============================] - 6s 3ms/step - loss: 0.5413 - accuracy: 0.8128 - val_loss: 0.5694 - val_accuracy: 0.8096 - lr: 0.0063\n",
            "Epoch 18/40\n",
            "1875/1875 [==============================] - 6s 3ms/step - loss: 0.5451 - accuracy: 0.8122 - val_loss: 0.5608 - val_accuracy: 0.8103 - lr: 0.0071\n",
            "Epoch 19/40\n",
            "1875/1875 [==============================] - 6s 3ms/step - loss: 0.5447 - accuracy: 0.8127 - val_loss: 0.5704 - val_accuracy: 0.8061 - lr: 0.0079\n",
            "Epoch 20/40\n",
            "1875/1875 [==============================] - 7s 3ms/step - loss: 0.5491 - accuracy: 0.8116 - val_loss: 0.5811 - val_accuracy: 0.8071 - lr: 0.0089\n",
            "Epoch 21/40\n",
            "1875/1875 [==============================] - 6s 3ms/step - loss: 0.5546 - accuracy: 0.8106 - val_loss: 0.5916 - val_accuracy: 0.7981 - lr: 0.0100\n",
            "Epoch 22/40\n",
            "1875/1875 [==============================] - 7s 4ms/step - loss: 0.5557 - accuracy: 0.8103 - val_loss: 0.5853 - val_accuracy: 0.8008 - lr: 0.0112\n",
            "Epoch 23/40\n",
            "1875/1875 [==============================] - 6s 3ms/step - loss: 0.5617 - accuracy: 0.8060 - val_loss: 0.6192 - val_accuracy: 0.7899 - lr: 0.0126\n",
            "Epoch 24/40\n",
            "1875/1875 [==============================] - 6s 3ms/step - loss: 0.5727 - accuracy: 0.8042 - val_loss: 0.5906 - val_accuracy: 0.7985 - lr: 0.0141\n",
            "Epoch 25/40\n",
            "1875/1875 [==============================] - 6s 3ms/step - loss: 0.5679 - accuracy: 0.8075 - val_loss: 0.5947 - val_accuracy: 0.8039 - lr: 0.0158\n",
            "Epoch 26/40\n",
            "1875/1875 [==============================] - 6s 3ms/step - loss: 0.5840 - accuracy: 0.8010 - val_loss: 0.7555 - val_accuracy: 0.7486 - lr: 0.0178\n",
            "Epoch 27/40\n",
            "1875/1875 [==============================] - 6s 3ms/step - loss: 0.5909 - accuracy: 0.7985 - val_loss: 0.6258 - val_accuracy: 0.7872 - lr: 0.0200\n",
            "Epoch 28/40\n",
            "1875/1875 [==============================] - 6s 3ms/step - loss: 0.5982 - accuracy: 0.7970 - val_loss: 0.6535 - val_accuracy: 0.7811 - lr: 0.0224\n",
            "Epoch 29/40\n",
            "1875/1875 [==============================] - 6s 3ms/step - loss: 0.6141 - accuracy: 0.7950 - val_loss: 0.7017 - val_accuracy: 0.7739 - lr: 0.0251\n",
            "Epoch 30/40\n",
            "1875/1875 [==============================] - 7s 3ms/step - loss: 0.6294 - accuracy: 0.7901 - val_loss: 0.6327 - val_accuracy: 0.7995 - lr: 0.0282\n",
            "Epoch 31/40\n",
            "1875/1875 [==============================] - 6s 3ms/step - loss: 0.6427 - accuracy: 0.7844 - val_loss: 0.7701 - val_accuracy: 0.7292 - lr: 0.0316\n",
            "Epoch 32/40\n",
            "1875/1875 [==============================] - 7s 3ms/step - loss: 0.6797 - accuracy: 0.7746 - val_loss: 0.6469 - val_accuracy: 0.7896 - lr: 0.0355\n",
            "Epoch 33/40\n",
            "1875/1875 [==============================] - 6s 3ms/step - loss: 0.6996 - accuracy: 0.7709 - val_loss: 0.7218 - val_accuracy: 0.7733 - lr: 0.0398\n",
            "Epoch 34/40\n",
            "1875/1875 [==============================] - 6s 3ms/step - loss: 0.7512 - accuracy: 0.7512 - val_loss: 0.8464 - val_accuracy: 0.7122 - lr: 0.0447\n",
            "Epoch 35/40\n",
            "1875/1875 [==============================] - 6s 3ms/step - loss: 0.7863 - accuracy: 0.7432 - val_loss: 0.8941 - val_accuracy: 0.7092 - lr: 0.0501\n",
            "Epoch 36/40\n",
            "1875/1875 [==============================] - 6s 3ms/step - loss: 0.9004 - accuracy: 0.6750 - val_loss: 1.0028 - val_accuracy: 0.6153 - lr: 0.0562\n",
            "Epoch 37/40\n",
            "1875/1875 [==============================] - 6s 3ms/step - loss: 0.9754 - accuracy: 0.6527 - val_loss: 1.0299 - val_accuracy: 0.5805 - lr: 0.0631\n",
            "Epoch 38/40\n",
            "1875/1875 [==============================] - 6s 3ms/step - loss: 1.2935 - accuracy: 0.4830 - val_loss: 1.2836 - val_accuracy: 0.4461 - lr: 0.0708\n",
            "Epoch 39/40\n",
            "1875/1875 [==============================] - 6s 3ms/step - loss: 1.4829 - accuracy: 0.3792 - val_loss: 1.5436 - val_accuracy: 0.3504 - lr: 0.0794\n",
            "Epoch 40/40\n",
            "1875/1875 [==============================] - 7s 4ms/step - loss: 1.4922 - accuracy: 0.3771 - val_loss: 1.5731 - val_accuracy: 0.3881 - lr: 0.0891\n"
          ]
        }
      ]
    },
    {
      "cell_type": "code",
      "source": [
        "# plot the learning rate decay curve\n",
        "import numpy as np\n",
        "import matplotlib.pyplot as plt\n",
        "\n",
        "lrs = 1e-3 * (10**tf.range(40) / 20)\n",
        "plt.semilogx(lrs, find_lr_hsitory.history['loss'])\n",
        "plt.xlabel(\"Learning Rate\")\n",
        "plt.ylabel('Loss')\n",
        "plt.title('Finding the ideal learning rate')"
      ],
      "metadata": {
        "colab": {
          "base_uri": "https://localhost:8080/",
          "height": 494
        },
        "id": "lpJJCLJUWbWl",
        "outputId": "2777a065-7088-45f2-a5a2-b0251a461406"
      },
      "execution_count": 18,
      "outputs": [
        {
          "output_type": "execute_result",
          "data": {
            "text/plain": [
              "Text(0.5, 1.0, 'Finding the ideal learning rate')"
            ]
          },
          "metadata": {},
          "execution_count": 18
        },
        {
          "output_type": "display_data",
          "data": {
            "text/plain": [
              "<Figure size 640x480 with 1 Axes>"
            ],
            "image/png": "[encoded data removed]"
          },
          "metadata": {}
        }
      ]
    },
    {
      "cell_type": "code",
      "source": [
        "tf.random.set_seed(42)\n",
        "\n",
        "model_norm = tf.keras.Sequential([\n",
        "    tf.keras.layers.Flatten(input_shape=(28,28)),\n",
        "    tf.keras.layers.Dense(4, activation='relu'),\n",
        "    tf.keras.layers.Dense(4, activation='relu'),\n",
        "    tf.keras.layers.Dense(10, activation='softmax')\n",
        "])\n",
        "\n",
        "# compile the model\n",
        "model_norm.compile(\n",
        "    loss=tf.keras.losses.SparseCategoricalCrossentropy(),\n",
        "    optimizer=tf.keras.optimizers.Adam(lr=0.001),\n",
        "    metrics=['accuracy']\n",
        ")\n",
        "\n",
        "history = model_norm.fit(train_data_norm, train_labels, epochs=40,\n",
        "                    validation_data=(test_data_norm, test_labels))"
      ],
      "metadata": {
        "colab": {
          "base_uri": "https://localhost:8080/"
        },
        "id": "bnBYi6_TXOc9",
        "outputId": "675b0e31-f924-4c1c-f8b4-f88d46859b5a"
      },
      "execution_count": 19,
      "outputs": [
        {
          "output_type": "stream",
          "name": "stderr",
          "text": [
            "WARNING:absl:`lr` is deprecated in Keras optimizer, please use `learning_rate` or use the legacy optimizer, e.g.,tf.keras.optimizers.legacy.Adam.\n"
          ]
        },
        {
          "output_type": "stream",
          "name": "stdout",
          "text": [
            "Epoch 1/40\n",
            "1875/1875 [==============================] - 7s 3ms/step - loss: 1.0962 - accuracy: 0.5795 - val_loss: 0.8073 - val_accuracy: 0.7030\n",
            "Epoch 2/40\n",
            "1875/1875 [==============================] - 6s 3ms/step - loss: 0.7537 - accuracy: 0.7316 - val_loss: 0.7321 - val_accuracy: 0.7421\n",
            "Epoch 3/40\n",
            "1875/1875 [==============================] - 5s 3ms/step - loss: 0.6990 - accuracy: 0.7516 - val_loss: 0.6895 - val_accuracy: 0.7532\n",
            "Epoch 4/40\n",
            "1875/1875 [==============================] - 6s 3ms/step - loss: 0.6709 - accuracy: 0.7605 - val_loss: 0.6718 - val_accuracy: 0.7639\n",
            "Epoch 5/40\n",
            "1875/1875 [==============================] - 6s 3ms/step - loss: 0.6536 - accuracy: 0.7662 - val_loss: 0.6624 - val_accuracy: 0.7656\n",
            "Epoch 6/40\n",
            "1875/1875 [==============================] - 6s 3ms/step - loss: 0.6403 - accuracy: 0.7709 - val_loss: 0.6611 - val_accuracy: 0.7654\n",
            "Epoch 7/40\n",
            "1875/1875 [==============================] - 6s 3ms/step - loss: 0.6305 - accuracy: 0.7761 - val_loss: 0.6725 - val_accuracy: 0.7573\n",
            "Epoch 8/40\n",
            "1875/1875 [==============================] - 6s 3ms/step - loss: 0.6227 - accuracy: 0.7783 - val_loss: 0.6349 - val_accuracy: 0.7800\n",
            "Epoch 9/40\n",
            "1875/1875 [==============================] - 6s 3ms/step - loss: 0.6143 - accuracy: 0.7847 - val_loss: 0.6325 - val_accuracy: 0.7754\n",
            "Epoch 10/40\n",
            "1875/1875 [==============================] - 7s 4ms/step - loss: 0.6095 - accuracy: 0.7839 - val_loss: 0.6272 - val_accuracy: 0.7795\n",
            "Epoch 11/40\n",
            "1875/1875 [==============================] - 6s 3ms/step - loss: 0.6038 - accuracy: 0.7886 - val_loss: 0.6292 - val_accuracy: 0.7819\n",
            "Epoch 12/40\n",
            "1875/1875 [==============================] - 6s 3ms/step - loss: 0.6001 - accuracy: 0.7907 - val_loss: 0.6259 - val_accuracy: 0.7843\n",
            "Epoch 13/40\n",
            "1875/1875 [==============================] - 6s 3ms/step - loss: 0.5964 - accuracy: 0.7921 - val_loss: 0.6192 - val_accuracy: 0.7853\n",
            "Epoch 14/40\n",
            "1875/1875 [==============================] - 6s 3ms/step - loss: 0.5918 - accuracy: 0.7934 - val_loss: 0.6209 - val_accuracy: 0.7889\n",
            "Epoch 15/40\n",
            "1875/1875 [==============================] - 6s 3ms/step - loss: 0.5899 - accuracy: 0.7938 - val_loss: 0.6230 - val_accuracy: 0.7877\n",
            "Epoch 16/40\n",
            "1875/1875 [==============================] - 7s 4ms/step - loss: 0.5868 - accuracy: 0.7971 - val_loss: 0.6182 - val_accuracy: 0.7869\n",
            "Epoch 17/40\n",
            "1875/1875 [==============================] - 6s 3ms/step - loss: 0.5832 - accuracy: 0.7965 - val_loss: 0.6148 - val_accuracy: 0.7906\n",
            "Epoch 18/40\n",
            "1875/1875 [==============================] - 7s 4ms/step - loss: 0.5822 - accuracy: 0.7978 - val_loss: 0.6203 - val_accuracy: 0.7883\n",
            "Epoch 19/40\n",
            "1875/1875 [==============================] - 6s 3ms/step - loss: 0.5794 - accuracy: 0.7984 - val_loss: 0.6215 - val_accuracy: 0.7909\n",
            "Epoch 20/40\n",
            "1875/1875 [==============================] - 7s 4ms/step - loss: 0.5776 - accuracy: 0.8013 - val_loss: 0.6126 - val_accuracy: 0.7926\n",
            "Epoch 21/40\n",
            "1875/1875 [==============================] - 8s 4ms/step - loss: 0.5751 - accuracy: 0.8009 - val_loss: 0.6152 - val_accuracy: 0.7895\n",
            "Epoch 22/40\n",
            "1875/1875 [==============================] - 6s 3ms/step - loss: 0.5735 - accuracy: 0.8014 - val_loss: 0.6240 - val_accuracy: 0.7911\n",
            "Epoch 23/40\n",
            "1875/1875 [==============================] - 6s 3ms/step - loss: 0.5722 - accuracy: 0.8035 - val_loss: 0.6230 - val_accuracy: 0.7867\n",
            "Epoch 24/40\n",
            "1875/1875 [==============================] - 7s 3ms/step - loss: 0.5705 - accuracy: 0.8027 - val_loss: 0.6222 - val_accuracy: 0.7882\n",
            "Epoch 25/40\n",
            "1875/1875 [==============================] - 6s 3ms/step - loss: 0.5691 - accuracy: 0.8040 - val_loss: 0.6174 - val_accuracy: 0.7913\n",
            "Epoch 26/40\n",
            "1875/1875 [==============================] - 7s 4ms/step - loss: 0.5694 - accuracy: 0.8033 - val_loss: 0.6169 - val_accuracy: 0.7940\n",
            "Epoch 27/40\n",
            "1875/1875 [==============================] - 6s 3ms/step - loss: 0.5671 - accuracy: 0.8046 - val_loss: 0.6250 - val_accuracy: 0.7892\n",
            "Epoch 28/40\n",
            "1875/1875 [==============================] - 7s 3ms/step - loss: 0.5664 - accuracy: 0.8053 - val_loss: 0.6159 - val_accuracy: 0.7909\n",
            "Epoch 29/40\n",
            "1875/1875 [==============================] - 6s 3ms/step - loss: 0.5651 - accuracy: 0.8059 - val_loss: 0.6088 - val_accuracy: 0.7955\n",
            "Epoch 30/40\n",
            "1875/1875 [==============================] - 6s 3ms/step - loss: 0.5647 - accuracy: 0.8068 - val_loss: 0.6131 - val_accuracy: 0.7959\n",
            "Epoch 31/40\n",
            "1875/1875 [==============================] - 6s 3ms/step - loss: 0.5636 - accuracy: 0.8076 - val_loss: 0.6211 - val_accuracy: 0.7921\n",
            "Epoch 32/40\n",
            "1875/1875 [==============================] - 6s 3ms/step - loss: 0.5638 - accuracy: 0.8070 - val_loss: 0.6066 - val_accuracy: 0.7981\n",
            "Epoch 33/40\n",
            "1875/1875 [==============================] - 6s 3ms/step - loss: 0.5625 - accuracy: 0.8075 - val_loss: 0.6243 - val_accuracy: 0.7927\n",
            "Epoch 34/40\n",
            "1875/1875 [==============================] - 6s 3ms/step - loss: 0.5612 - accuracy: 0.8074 - val_loss: 0.6130 - val_accuracy: 0.7951\n",
            "Epoch 35/40\n",
            "1875/1875 [==============================] - 6s 3ms/step - loss: 0.5607 - accuracy: 0.8084 - val_loss: 0.6239 - val_accuracy: 0.7929\n",
            "Epoch 36/40\n",
            "1875/1875 [==============================] - 6s 3ms/step - loss: 0.5597 - accuracy: 0.8084 - val_loss: 0.6208 - val_accuracy: 0.7937\n",
            "Epoch 37/40\n",
            "1875/1875 [==============================] - 6s 3ms/step - loss: 0.5584 - accuracy: 0.8099 - val_loss: 0.6180 - val_accuracy: 0.7917\n",
            "Epoch 38/40\n",
            "1875/1875 [==============================] - 7s 4ms/step - loss: 0.5592 - accuracy: 0.8080 - val_loss: 0.6131 - val_accuracy: 0.7956\n",
            "Epoch 39/40\n",
            "1875/1875 [==============================] - 6s 3ms/step - loss: 0.5572 - accuracy: 0.8097 - val_loss: 0.6115 - val_accuracy: 0.7967\n",
            "Epoch 40/40\n",
            "1875/1875 [==============================] - 7s 4ms/step - loss: 0.5562 - accuracy: 0.8106 - val_loss: 0.6230 - val_accuracy: 0.7913\n"
          ]
        }
      ]
    },
    {
      "cell_type": "code",
      "source": [
        "tf.random.set_seed(42)\n",
        "\n",
        "model_norm = tf.keras.Sequential([\n",
        "    tf.keras.layers.Flatten(input_shape=(28,28)),\n",
        "    tf.keras.layers.Dense(4, activation='relu'),\n",
        "    tf.keras.layers.Dense(4, activation='relu'),\n",
        "    tf.keras.layers.Dense(10, activation='softmax')\n",
        "])\n",
        "\n",
        "# compile the model\n",
        "model_norm.compile(\n",
        "    loss=tf.keras.losses.SparseCategoricalCrossentropy(),\n",
        "    optimizer=tf.keras.optimizers.Adam(lr=0.01),\n",
        "    metrics=['accuracy']\n",
        ")\n",
        "\n",
        "history = model_norm.fit(train_data_norm, train_labels, epochs=40,\n",
        "                    validation_data=(test_data_norm, test_labels))"
      ],
      "metadata": {
        "colab": {
          "base_uri": "https://localhost:8080/"
        },
        "id": "upUC2erjbnoz",
        "outputId": "9c5d28e2-33ef-48b5-9982-16f588fc45be"
      },
      "execution_count": null,
      "outputs": [
        {
          "output_type": "stream",
          "name": "stderr",
          "text": [
            "WARNING:absl:`lr` is deprecated in Keras optimizer, please use `learning_rate` or use the legacy optimizer, e.g.,tf.keras.optimizers.legacy.Adam.\n"
          ]
        },
        {
          "output_type": "stream",
          "name": "stdout",
          "text": [
            "Epoch 1/40\n",
            "1875/1875 [==============================] - 8s 4ms/step - loss: 1.3493 - accuracy: 0.4903 - val_loss: 1.0345 - val_accuracy: 0.6557\n",
            "Epoch 2/40\n",
            "1875/1875 [==============================] - 6s 3ms/step - loss: 0.8769 - accuracy: 0.7197 - val_loss: 0.7809 - val_accuracy: 0.7426\n",
            "Epoch 3/40\n",
            "1875/1875 [==============================] - 6s 3ms/step - loss: 0.7150 - accuracy: 0.7632 - val_loss: 0.7008 - val_accuracy: 0.7676\n",
            "Epoch 4/40\n",
            "1875/1875 [==============================] - 6s 3ms/step - loss: 0.6673 - accuracy: 0.7775 - val_loss: 0.6766 - val_accuracy: 0.7726\n",
            "Epoch 5/40\n",
            "1875/1875 [==============================] - 6s 3ms/step - loss: 0.6440 - accuracy: 0.7817 - val_loss: 0.6577 - val_accuracy: 0.7767\n",
            "Epoch 6/40\n",
            "1875/1875 [==============================] - 6s 3ms/step - loss: 0.6275 - accuracy: 0.7853 - val_loss: 0.6435 - val_accuracy: 0.7820\n",
            "Epoch 7/40\n",
            "1875/1875 [==============================] - 7s 4ms/step - loss: 0.6172 - accuracy: 0.7879 - val_loss: 0.6694 - val_accuracy: 0.7661\n",
            "Epoch 8/40\n",
            "1875/1875 [==============================] - 6s 3ms/step - loss: 0.6076 - accuracy: 0.7910 - val_loss: 0.6340 - val_accuracy: 0.7832\n",
            "Epoch 9/40\n",
            "1875/1875 [==============================] - 6s 3ms/step - loss: 0.6018 - accuracy: 0.7925 - val_loss: 0.6269 - val_accuracy: 0.7871\n",
            "Epoch 10/40\n",
            "1875/1875 [==============================] - 6s 3ms/step - loss: 0.5968 - accuracy: 0.7947 - val_loss: 0.6252 - val_accuracy: 0.7868\n",
            "Epoch 11/40\n",
            "1875/1875 [==============================] - 6s 3ms/step - loss: 0.5924 - accuracy: 0.7967 - val_loss: 0.6228 - val_accuracy: 0.7861\n",
            "Epoch 12/40\n",
            "1875/1875 [==============================] - 6s 3ms/step - loss: 0.5870 - accuracy: 0.7965 - val_loss: 0.6117 - val_accuracy: 0.7917\n",
            "Epoch 13/40\n",
            "1875/1875 [==============================] - 6s 3ms/step - loss: 0.5827 - accuracy: 0.7990 - val_loss: 0.6124 - val_accuracy: 0.7892\n",
            "Epoch 14/40\n",
            "1875/1875 [==============================] - 6s 3ms/step - loss: 0.5789 - accuracy: 0.7991 - val_loss: 0.6112 - val_accuracy: 0.7885\n",
            "Epoch 15/40\n",
            "1875/1875 [==============================] - 7s 4ms/step - loss: 0.5755 - accuracy: 0.8008 - val_loss: 0.6014 - val_accuracy: 0.7924\n",
            "Epoch 16/40\n",
            "1875/1875 [==============================] - 6s 3ms/step - loss: 0.5727 - accuracy: 0.8001 - val_loss: 0.6067 - val_accuracy: 0.7898\n",
            "Epoch 17/40\n",
            "1875/1875 [==============================] - 6s 3ms/step - loss: 0.5697 - accuracy: 0.8012 - val_loss: 0.5972 - val_accuracy: 0.7928\n",
            "Epoch 18/40\n",
            "1875/1875 [==============================] - 6s 3ms/step - loss: 0.5677 - accuracy: 0.8016 - val_loss: 0.5999 - val_accuracy: 0.7912\n",
            "Epoch 19/40\n",
            "1875/1875 [==============================] - 6s 3ms/step - loss: 0.5673 - accuracy: 0.8016 - val_loss: 0.5969 - val_accuracy: 0.7932\n",
            "Epoch 20/40\n",
            "1875/1875 [==============================] - 6s 3ms/step - loss: 0.5641 - accuracy: 0.8041 - val_loss: 0.6053 - val_accuracy: 0.7883\n",
            "Epoch 21/40\n",
            "1875/1875 [==============================] - 6s 3ms/step - loss: 0.5621 - accuracy: 0.8052 - val_loss: 0.6002 - val_accuracy: 0.7923\n",
            "Epoch 22/40\n",
            "1875/1875 [==============================] - 6s 3ms/step - loss: 0.5607 - accuracy: 0.8042 - val_loss: 0.6225 - val_accuracy: 0.7798\n",
            "Epoch 23/40\n",
            "1875/1875 [==============================] - 6s 3ms/step - loss: 0.5588 - accuracy: 0.8045 - val_loss: 0.6011 - val_accuracy: 0.7891\n",
            "Epoch 24/40\n",
            "1875/1875 [==============================] - 6s 3ms/step - loss: 0.5577 - accuracy: 0.8060 - val_loss: 0.5891 - val_accuracy: 0.7959\n",
            "Epoch 25/40\n",
            "1875/1875 [==============================] - 6s 3ms/step - loss: 0.5573 - accuracy: 0.8059 - val_loss: 0.6142 - val_accuracy: 0.7885\n",
            "Epoch 26/40\n",
            "1875/1875 [==============================] - 6s 3ms/step - loss: 0.5564 - accuracy: 0.8052 - val_loss: 0.6063 - val_accuracy: 0.7890\n",
            "Epoch 27/40\n",
            "1875/1875 [==============================] - 6s 3ms/step - loss: 0.5547 - accuracy: 0.8063 - val_loss: 0.5909 - val_accuracy: 0.7944\n",
            "Epoch 28/40\n",
            "1875/1875 [==============================] - 6s 3ms/step - loss: 0.5536 - accuracy: 0.8073 - val_loss: 0.5908 - val_accuracy: 0.7961\n",
            "Epoch 29/40\n",
            "1875/1875 [==============================] - 6s 3ms/step - loss: 0.5536 - accuracy: 0.8065 - val_loss: 0.5942 - val_accuracy: 0.7925\n",
            "Epoch 30/40\n",
            "1875/1875 [==============================] - 6s 3ms/step - loss: 0.5527 - accuracy: 0.8070 - val_loss: 0.6006 - val_accuracy: 0.7911\n",
            "Epoch 31/40\n",
            "1875/1875 [==============================] - 6s 3ms/step - loss: 0.5524 - accuracy: 0.8069 - val_loss: 0.6091 - val_accuracy: 0.7847\n",
            "Epoch 32/40\n",
            "1875/1875 [==============================] - 6s 3ms/step - loss: 0.5526 - accuracy: 0.8077 - val_loss: 0.5946 - val_accuracy: 0.7900\n",
            "Epoch 33/40\n",
            "1875/1875 [==============================] - 6s 3ms/step - loss: 0.5511 - accuracy: 0.8073 - val_loss: 0.5971 - val_accuracy: 0.7858\n",
            "Epoch 34/40\n",
            "1875/1875 [==============================] - 7s 3ms/step - loss: 0.5495 - accuracy: 0.8082 - val_loss: 0.5959 - val_accuracy: 0.7934\n",
            "Epoch 35/40\n",
            "1875/1875 [==============================] - 6s 3ms/step - loss: 0.5488 - accuracy: 0.8089 - val_loss: 0.5862 - val_accuracy: 0.7957\n",
            "Epoch 36/40\n",
            "1875/1875 [==============================] - 6s 3ms/step - loss: 0.5488 - accuracy: 0.8077 - val_loss: 0.5944 - val_accuracy: 0.7924\n",
            "Epoch 37/40\n",
            "1875/1875 [==============================] - 6s 3ms/step - loss: 0.5482 - accuracy: 0.8093 - val_loss: 0.5903 - val_accuracy: 0.7938\n",
            "Epoch 38/40\n",
            "1208/1875 [==================>...........] - ETA: 2s - loss: 0.5411 - accuracy: 0.8110"
          ]
        }
      ]
    },
    {
      "cell_type": "code",
      "source": [],
      "metadata": {
        "id": "5sKti1G3dl2w"
      },
      "execution_count": null,
      "outputs": []
    }
  ]
}